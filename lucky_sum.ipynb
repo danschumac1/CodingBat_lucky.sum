{
 "cells": [
  {
   "cell_type": "markdown",
   "id": "a896610e",
   "metadata": {},
   "source": [
    "# Logic-2 > lucky_sum"
   ]
  },
  {
   "cell_type": "markdown",
   "id": "946ea5f1",
   "metadata": {},
   "source": [
    "Given 3 int values, a b c, return their sum. However, if one of the values is 13 then it does not count towards the sum and values to its right do not count. So for example, if b is 13, then both b and c do not count.\n",
    "\n",
    "\n",
    "lucky_sum(1, 2, 3) → 6\n",
    "\n",
    "lucky_sum(1, 2, 13) → 3\n",
    "\n",
    "lucky_sum(1, 13, 3) → 1"
   ]
  },
  {
   "cell_type": "code",
   "execution_count": null,
   "id": "a596f7d6",
   "metadata": {},
   "outputs": [],
   "source": [
    "def lucky_sum(a, b, c):\n",
    "  \n",
    "  #set up variables and mylist\n",
    "  total = 0\n",
    "  mylist= []\n",
    "  mylist.extend([a,b,c])\n",
    "  \n",
    "  \n",
    "  \n",
    "  for n in mylist:\n",
    "    if n ==13:\n",
    "      break\n",
    "    else:\n",
    "      total+=n\n",
    "    \n",
    "  return total"
   ]
  }
 ],
 "metadata": {
  "kernelspec": {
   "display_name": "Python 3 (ipykernel)",
   "language": "python",
   "name": "python3"
  },
  "language_info": {
   "codemirror_mode": {
    "name": "ipython",
    "version": 3
   },
   "file_extension": ".py",
   "mimetype": "text/x-python",
   "name": "python",
   "nbconvert_exporter": "python",
   "pygments_lexer": "ipython3",
   "version": "3.9.12"
  }
 },
 "nbformat": 4,
 "nbformat_minor": 5
}
